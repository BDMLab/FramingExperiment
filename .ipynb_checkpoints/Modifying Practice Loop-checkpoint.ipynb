{
 "metadata": {
  "name": "",
  "signature": "sha256:a9fe9619642265718bee30282438903fc5a218ba4cee6273b5a4a6d1d9f0677b"
 },
 "nbformat": 3,
 "nbformat_minor": 0,
 "worksheets": [
  {
   "cells": [
    {
     "cell_type": "heading",
     "level": 1,
     "metadata": {},
     "source": [
      "Modifying Framing Loop"
     ]
    },
    {
     "cell_type": "markdown",
     "metadata": {},
     "source": [
      "The code in this notebook is intended to modify the framing loop so that the image files are recovered from their specific folders, rather than being placed with the experimental script. In order to do this, I will first load the csv file as a DataFrame, use a loop to rewrite the relevant cells and then write two new csv-files. One calling the original images and one calling the images that have been adjusted to be friendly to colour blind people"
     ]
    },
    {
     "cell_type": "code",
     "collapsed": false,
     "input": [
      "import pandas as pd\n",
      "import numpy as np"
     ],
     "language": "python",
     "metadata": {},
     "outputs": [],
     "prompt_number": 2
    },
    {
     "cell_type": "code",
     "collapsed": false,
     "input": [
      "Original=pd.DataFrame.from_csv('FramingTrialHandler.csv', header=0, sep=',', index_col=False)\n",
      "Original.head()"
     ],
     "language": "python",
     "metadata": {},
     "outputs": [
      {
       "html": [
        "<div style=\"max-height:1000px;max-width:1500px;overflow:auto;\">\n",
        "<table border=\"1\" class=\"dataframe\">\n",
        "  <thead>\n",
        "    <tr style=\"text-align: right;\">\n",
        "      <th></th>\n",
        "      <th>Full Amount</th>\n",
        "      <th>Frame</th>\n",
        "      <th>Gamble</th>\n",
        "      <th>Stable</th>\n",
        "      <th>Catch</th>\n",
        "      <th>GambleLeft</th>\n",
        "    </tr>\n",
        "  </thead>\n",
        "  <tbody>\n",
        "    <tr>\n",
        "      <th>0</th>\n",
        "      <td> \u00a325</td>\n",
        "      <td> Gain </td>\n",
        "      <td> Keep80.jpg</td>\n",
        "      <td> Keep \u00a320</td>\n",
        "      <td> 0</td>\n",
        "      <td> 1</td>\n",
        "    </tr>\n",
        "    <tr>\n",
        "      <th>1</th>\n",
        "      <td> \u00a325</td>\n",
        "      <td>  Gain</td>\n",
        "      <td> Keep60.jpg</td>\n",
        "      <td> Keep \u00a315</td>\n",
        "      <td> 0</td>\n",
        "      <td> 1</td>\n",
        "    </tr>\n",
        "    <tr>\n",
        "      <th>2</th>\n",
        "      <td> \u00a325</td>\n",
        "      <td>  Gain</td>\n",
        "      <td> Keep40.jpg</td>\n",
        "      <td> Keep \u00a310</td>\n",
        "      <td> 0</td>\n",
        "      <td> 1</td>\n",
        "    </tr>\n",
        "    <tr>\n",
        "      <th>3</th>\n",
        "      <td> \u00a325</td>\n",
        "      <td>  Gain</td>\n",
        "      <td> Keep20.jpg</td>\n",
        "      <td>  Keep \u00a35</td>\n",
        "      <td> 0</td>\n",
        "      <td> 1</td>\n",
        "    </tr>\n",
        "    <tr>\n",
        "      <th>4</th>\n",
        "      <td> \u00a325</td>\n",
        "      <td>  Loss</td>\n",
        "      <td> Keep80.jpg</td>\n",
        "      <td>  Lose \u00a35</td>\n",
        "      <td> 0</td>\n",
        "      <td> 1</td>\n",
        "    </tr>\n",
        "  </tbody>\n",
        "</table>\n",
        "</div>"
       ],
       "metadata": {},
       "output_type": "pyout",
       "prompt_number": 3,
       "text": [
        "  Full Amount  Frame      Gamble    Stable  Catch  GambleLeft\n",
        "0         \u00a325  Gain   Keep80.jpg  Keep \u00a320      0           1\n",
        "1         \u00a325   Gain  Keep60.jpg  Keep \u00a315      0           1\n",
        "2         \u00a325   Gain  Keep40.jpg  Keep \u00a310      0           1\n",
        "3         \u00a325   Gain  Keep20.jpg   Keep \u00a35      0           1\n",
        "4         \u00a325   Loss  Keep80.jpg   Lose \u00a35      0           1"
       ]
      }
     ],
     "prompt_number": 3
    },
    {
     "cell_type": "heading",
     "level": 3,
     "metadata": {},
     "source": [
      "Generating the colourblind trials"
     ]
    },
    {
     "cell_type": "code",
     "collapsed": false,
     "input": [
      "GambleList= []\n",
      "Stimuli=['Stimuli/Colourblind/Keep80.jpg', 'Stimuli/Colourblind/Keep60.jpg', 'Stimuli/Colourblind/Keep40.jpg', 'Stimuli/Colourblind/Keep20.jpg']\n",
      "Catch=['Stimuli/Colourblind/Keep95.jpg', 'Stimuli/Colourblind/Keep5.jpg']\n",
      "for x in range(16):\n",
      "    for y in range(4):\n",
      "        GambleList.append(Stimuli[y])\n",
      "for x in range(16):\n",
      "    for y in range(2):\n",
      "        GambleList.append(Catch[y])\n",
      "print GambleList\n",
      "print len(GambleList)"
     ],
     "language": "python",
     "metadata": {},
     "outputs": [
      {
       "output_type": "stream",
       "stream": "stdout",
       "text": [
        "['Stimuli/Colourblind/Keep80.jpg', 'Stimuli/Colourblind/Keep60.jpg', 'Stimuli/Colourblind/Keep40.jpg', 'Stimuli/Colourblind/Keep20.jpg', 'Stimuli/Colourblind/Keep80.jpg', 'Stimuli/Colourblind/Keep60.jpg', 'Stimuli/Colourblind/Keep40.jpg', 'Stimuli/Colourblind/Keep20.jpg', 'Stimuli/Colourblind/Keep80.jpg', 'Stimuli/Colourblind/Keep60.jpg', 'Stimuli/Colourblind/Keep40.jpg', 'Stimuli/Colourblind/Keep20.jpg', 'Stimuli/Colourblind/Keep80.jpg', 'Stimuli/Colourblind/Keep60.jpg', 'Stimuli/Colourblind/Keep40.jpg', 'Stimuli/Colourblind/Keep20.jpg', 'Stimuli/Colourblind/Keep80.jpg', 'Stimuli/Colourblind/Keep60.jpg', 'Stimuli/Colourblind/Keep40.jpg', 'Stimuli/Colourblind/Keep20.jpg', 'Stimuli/Colourblind/Keep80.jpg', 'Stimuli/Colourblind/Keep60.jpg', 'Stimuli/Colourblind/Keep40.jpg', 'Stimuli/Colourblind/Keep20.jpg', 'Stimuli/Colourblind/Keep80.jpg', 'Stimuli/Colourblind/Keep60.jpg', 'Stimuli/Colourblind/Keep40.jpg', 'Stimuli/Colourblind/Keep20.jpg', 'Stimuli/Colourblind/Keep80.jpg', 'Stimuli/Colourblind/Keep60.jpg', 'Stimuli/Colourblind/Keep40.jpg', 'Stimuli/Colourblind/Keep20.jpg', 'Stimuli/Colourblind/Keep80.jpg', 'Stimuli/Colourblind/Keep60.jpg', 'Stimuli/Colourblind/Keep40.jpg', 'Stimuli/Colourblind/Keep20.jpg', 'Stimuli/Colourblind/Keep80.jpg', 'Stimuli/Colourblind/Keep60.jpg', 'Stimuli/Colourblind/Keep40.jpg', 'Stimuli/Colourblind/Keep20.jpg', 'Stimuli/Colourblind/Keep80.jpg', 'Stimuli/Colourblind/Keep60.jpg', 'Stimuli/Colourblind/Keep40.jpg', 'Stimuli/Colourblind/Keep20.jpg', 'Stimuli/Colourblind/Keep80.jpg', 'Stimuli/Colourblind/Keep60.jpg', 'Stimuli/Colourblind/Keep40.jpg', 'Stimuli/Colourblind/Keep20.jpg', 'Stimuli/Colourblind/Keep80.jpg', 'Stimuli/Colourblind/Keep60.jpg', 'Stimuli/Colourblind/Keep40.jpg', 'Stimuli/Colourblind/Keep20.jpg', 'Stimuli/Colourblind/Keep80.jpg', 'Stimuli/Colourblind/Keep60.jpg', 'Stimuli/Colourblind/Keep40.jpg', 'Stimuli/Colourblind/Keep20.jpg', 'Stimuli/Colourblind/Keep80.jpg', 'Stimuli/Colourblind/Keep60.jpg', 'Stimuli/Colourblind/Keep40.jpg', 'Stimuli/Colourblind/Keep20.jpg', 'Stimuli/Colourblind/Keep80.jpg', 'Stimuli/Colourblind/Keep60.jpg', 'Stimuli/Colourblind/Keep40.jpg', 'Stimuli/Colourblind/Keep20.jpg', 'Stimuli/Colourblind/Keep95.jpg', 'Stimuli/Colourblind/Keep5.jpg', 'Stimuli/Colourblind/Keep95.jpg', 'Stimuli/Colourblind/Keep5.jpg', 'Stimuli/Colourblind/Keep95.jpg', 'Stimuli/Colourblind/Keep5.jpg', 'Stimuli/Colourblind/Keep95.jpg', 'Stimuli/Colourblind/Keep5.jpg', 'Stimuli/Colourblind/Keep95.jpg', 'Stimuli/Colourblind/Keep5.jpg', 'Stimuli/Colourblind/Keep95.jpg', 'Stimuli/Colourblind/Keep5.jpg', 'Stimuli/Colourblind/Keep95.jpg', 'Stimuli/Colourblind/Keep5.jpg', 'Stimuli/Colourblind/Keep95.jpg', 'Stimuli/Colourblind/Keep5.jpg', 'Stimuli/Colourblind/Keep95.jpg', 'Stimuli/Colourblind/Keep5.jpg', 'Stimuli/Colourblind/Keep95.jpg', 'Stimuli/Colourblind/Keep5.jpg', 'Stimuli/Colourblind/Keep95.jpg', 'Stimuli/Colourblind/Keep5.jpg', 'Stimuli/Colourblind/Keep95.jpg', 'Stimuli/Colourblind/Keep5.jpg', 'Stimuli/Colourblind/Keep95.jpg', 'Stimuli/Colourblind/Keep5.jpg', 'Stimuli/Colourblind/Keep95.jpg', 'Stimuli/Colourblind/Keep5.jpg', 'Stimuli/Colourblind/Keep95.jpg', 'Stimuli/Colourblind/Keep5.jpg', 'Stimuli/Colourblind/Keep95.jpg', 'Stimuli/Colourblind/Keep5.jpg']\n",
        "96\n"
       ]
      }
     ],
     "prompt_number": 4
    },
    {
     "cell_type": "heading",
     "level": 3,
     "metadata": {},
     "source": [
      "Saving a new DataFrame with the colourblind trials"
     ]
    },
    {
     "cell_type": "code",
     "collapsed": false,
     "input": [
      "Colourblind = Original.copy()\n",
      "Colourblind['Gamble'] = GambleList\n",
      "Colourblind.head()\n",
      "Colourblind.to_csv('FramingTrialHandlerColourblind.csv', index=False)"
     ],
     "language": "python",
     "metadata": {},
     "outputs": [],
     "prompt_number": 5
    },
    {
     "cell_type": "heading",
     "level": 3,
     "metadata": {},
     "source": [
      "Generating the original trials"
     ]
    },
    {
     "cell_type": "code",
     "collapsed": false,
     "input": [
      "GambleList= []\n",
      "Stimuli=['Stimuli/Original/Keep80.jpg', 'Stimuli/Original/Keep60.jpg', 'Stimuli/Original/Keep40.jpg', 'Stimuli/Original/Keep20.jpg']\n",
      "Catch=['Stimuli/Original/Keep95.jpg', 'Stimuli/Original/Keep5.jpg']\n",
      "for x in range(16):\n",
      "    for y in range(4):\n",
      "        GambleList.append(Stimuli[y])\n",
      "for x in range(16):\n",
      "    for y in range(2):\n",
      "        GambleList.append(Catch[y])\n",
      "print GambleList\n",
      "print len(GambleList)"
     ],
     "language": "python",
     "metadata": {},
     "outputs": [
      {
       "output_type": "stream",
       "stream": "stdout",
       "text": [
        "['Stimuli/Original/Keep80.jpg', 'Stimuli/Original/Keep60.jpg', 'Stimuli/Original/Keep40.jpg', 'Stimuli/Original/Keep20.jpg', 'Stimuli/Original/Keep80.jpg', 'Stimuli/Original/Keep60.jpg', 'Stimuli/Original/Keep40.jpg', 'Stimuli/Original/Keep20.jpg', 'Stimuli/Original/Keep80.jpg', 'Stimuli/Original/Keep60.jpg', 'Stimuli/Original/Keep40.jpg', 'Stimuli/Original/Keep20.jpg', 'Stimuli/Original/Keep80.jpg', 'Stimuli/Original/Keep60.jpg', 'Stimuli/Original/Keep40.jpg', 'Stimuli/Original/Keep20.jpg', 'Stimuli/Original/Keep80.jpg', 'Stimuli/Original/Keep60.jpg', 'Stimuli/Original/Keep40.jpg', 'Stimuli/Original/Keep20.jpg', 'Stimuli/Original/Keep80.jpg', 'Stimuli/Original/Keep60.jpg', 'Stimuli/Original/Keep40.jpg', 'Stimuli/Original/Keep20.jpg', 'Stimuli/Original/Keep80.jpg', 'Stimuli/Original/Keep60.jpg', 'Stimuli/Original/Keep40.jpg', 'Stimuli/Original/Keep20.jpg', 'Stimuli/Original/Keep80.jpg', 'Stimuli/Original/Keep60.jpg', 'Stimuli/Original/Keep40.jpg', 'Stimuli/Original/Keep20.jpg', 'Stimuli/Original/Keep80.jpg', 'Stimuli/Original/Keep60.jpg', 'Stimuli/Original/Keep40.jpg', 'Stimuli/Original/Keep20.jpg', 'Stimuli/Original/Keep80.jpg', 'Stimuli/Original/Keep60.jpg', 'Stimuli/Original/Keep40.jpg', 'Stimuli/Original/Keep20.jpg', 'Stimuli/Original/Keep80.jpg', 'Stimuli/Original/Keep60.jpg', 'Stimuli/Original/Keep40.jpg', 'Stimuli/Original/Keep20.jpg', 'Stimuli/Original/Keep80.jpg', 'Stimuli/Original/Keep60.jpg', 'Stimuli/Original/Keep40.jpg', 'Stimuli/Original/Keep20.jpg', 'Stimuli/Original/Keep80.jpg', 'Stimuli/Original/Keep60.jpg', 'Stimuli/Original/Keep40.jpg', 'Stimuli/Original/Keep20.jpg', 'Stimuli/Original/Keep80.jpg', 'Stimuli/Original/Keep60.jpg', 'Stimuli/Original/Keep40.jpg', 'Stimuli/Original/Keep20.jpg', 'Stimuli/Original/Keep80.jpg', 'Stimuli/Original/Keep60.jpg', 'Stimuli/Original/Keep40.jpg', 'Stimuli/Original/Keep20.jpg', 'Stimuli/Original/Keep80.jpg', 'Stimuli/Original/Keep60.jpg', 'Stimuli/Original/Keep40.jpg', 'Stimuli/Original/Keep20.jpg', 'Stimuli/Original/Keep95.jpg', 'Stimuli/Original/Keep5.jpg', 'Stimuli/Original/Keep95.jpg', 'Stimuli/Original/Keep5.jpg', 'Stimuli/Original/Keep95.jpg', 'Stimuli/Original/Keep5.jpg', 'Stimuli/Original/Keep95.jpg', 'Stimuli/Original/Keep5.jpg', 'Stimuli/Original/Keep95.jpg', 'Stimuli/Original/Keep5.jpg', 'Stimuli/Original/Keep95.jpg', 'Stimuli/Original/Keep5.jpg', 'Stimuli/Original/Keep95.jpg', 'Stimuli/Original/Keep5.jpg', 'Stimuli/Original/Keep95.jpg', 'Stimuli/Original/Keep5.jpg', 'Stimuli/Original/Keep95.jpg', 'Stimuli/Original/Keep5.jpg', 'Stimuli/Original/Keep95.jpg', 'Stimuli/Original/Keep5.jpg', 'Stimuli/Original/Keep95.jpg', 'Stimuli/Original/Keep5.jpg', 'Stimuli/Original/Keep95.jpg', 'Stimuli/Original/Keep5.jpg', 'Stimuli/Original/Keep95.jpg', 'Stimuli/Original/Keep5.jpg', 'Stimuli/Original/Keep95.jpg', 'Stimuli/Original/Keep5.jpg', 'Stimuli/Original/Keep95.jpg', 'Stimuli/Original/Keep5.jpg', 'Stimuli/Original/Keep95.jpg', 'Stimuli/Original/Keep5.jpg']\n",
        "96\n"
       ]
      }
     ],
     "prompt_number": 7
    },
    {
     "cell_type": "heading",
     "level": 3,
     "metadata": {},
     "source": [
      "Saving the DataFrame with the original trials"
     ]
    },
    {
     "cell_type": "code",
     "collapsed": false,
     "input": [
      "Classic = Original.copy()\n",
      "Classic['Gamble'] = GambleList\n",
      "Classic.head()\n",
      "Classic.to_csv('FramingTrialHandlerOriginal.csv', index=False)"
     ],
     "language": "python",
     "metadata": {},
     "outputs": [],
     "prompt_number": 8
    }
   ],
   "metadata": {}
  }
 ]
}